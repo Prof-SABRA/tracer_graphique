{
 "cells": [
  {
   "cell_type": "markdown",
   "id": "painted-resident",
   "metadata": {
    "tags": []
   },
   "source": [
    "<h1 align=\"center\" style=\"font-size:40px\"> TRACER UN GRAPHIQUE AVEC </h1> \n",
    "<a id=\"debut\"></a>\n",
    "<p style=\"text-align:center\"><a href= \"https://matplotlib.org/stable/tutorials/index.html\"> <img src=\"https://matplotlib.org/stable/_static/logo2_compressed.svg\" alt=\"MATPLOTLIB\" width=\"300\" > </a></p>"
   ]
  },
  {
   "cell_type": "markdown",
   "id": "resident-henry",
   "metadata": {
    "tags": []
   },
   "source": [
    "<div class=\"alert alert-block alert-danger\">\n",
    "    <b>CONSIGNES GENERALES</b>\n",
    "    <ul>\n",
    "        <li> Les différentes parties peuvent être traitée indépendamment, mai<b>la première cellule doit nécessairement être exécutée pour faire la suite. </b></li>\n",
    "        <li> Lire les consignes dans les cellules bleues. </li>\n",
    "        <li> Les aides (cellules vertes) et les solutions (cellules jaunes)ne sont à utiliser qu'après avoir vraiment essayé de compléter le code. </li>\n",
    "        <li> On trouvera des notices au format pdf <a href=\"https://colibris.link/PC\">ici</a> et des tutos vidéos <a href=\"https://tube-creteil.beta.education.fr/video-channels/phys_chim_choisy_le_roi/videos\">là</a>. </li>\n",
    "        <li> Cliquer sur le titre pour accéder à la documentation officielle  du module matplotlib.</li>\n",
    "    </ul>\n",
    "</div>"
   ]
  },
  {
   "cell_type": "markdown",
   "id": "rising-petersburg",
   "metadata": {},
   "source": [
    "**SOMMAIRE**\n",
    "\n",
    "**[1. Tracer un graphique simple](#C1)**\n",
    "\n",
    "[1.1. Moddifier les axes](#C1_1)\n",
    "\n",
    "[1.2. Ajouter des éléments graphiques](#C1_2)\n",
    "\n",
    "**[2. Création d'une grandeur calculée et tracé d'une deuxième courbe](#C2)**\n",
    "\n",
    "[2.1. Nouvelle grandeur et nouvelle courbe](#C2_1)\n",
    "\n",
    "[2.2. Ajouter les noms des courbes](#C2_2)\n",
    "\n",
    "**[3. Une première régression linéaire](#C3)**\n",
    "\n",
    "[3.1. Faire une régression linéaire](#C3_1)\n",
    "\n",
    "[3.2. Prolonger la courbe jusqu'à x=0](#C3_2)\n",
    "\n",
    "[3.3. Indiquer le coefficient directeur dans la légende](#C3_3)\n",
    "\n",
    "**[4. Regression linéaire pour une fonction affine](#C4)**\n",
    "\n",
    "[4.1. Utilisation de la fonction linregress](#C4_1)\n",
    "\n",
    "[4.2. Prolonger la courbe jusqu'à x=0](#C4_2)"
   ]
  },
  {
   "cell_type": "markdown",
   "id": "important-dominican",
   "metadata": {},
   "source": [
    "<div class=\"alert alert-info\" role=\"alert\">\n",
    "    <b> Consignes </b>\n",
    "    <p> Exécuter la cellule ci-dessous pour importer les modules nécessaires et créer deux listes de valeurs </p>\n",
    "</div>"
   ]
  },
  {
   "cell_type": "code",
   "execution_count": null,
   "id": "furnished-checklist",
   "metadata": {},
   "outputs": [],
   "source": [
    "# Importation des modules\n",
    "import matplotlib.pyplot as plt\n",
    "from math import *\n",
    "\n",
    "#Listes de valeurs\n",
    "x = [ 1, 2, 3, 4, 5, 6]\n",
    "y = [ 2.1e3, 3.7e3, 6.2e3, 8.3e3, 10.1e3, 11.8e3]"
   ]
  },
  {
   "cell_type": "markdown",
   "id": "vocational-memorial",
   "metadata": {},
   "source": [
    "## 1. Tracer un graphique simple <a id=\"C1\"></a>"
   ]
  },
  {
   "cell_type": "markdown",
   "id": "upset-appliance",
   "metadata": {},
   "source": [
    "<div class=\"alert alert-block alert-info\">\n",
    "    <b> Consignes </b>\n",
    "\n",
    "* Ajouter l'instruction permettant de tracer y en fonction de x et exécuter la cellule.\n",
    "* Ajouter dans la cellule précédente le point de coordonnées $(3,5 ~;~ 7 \\times 10^3)$ et exécuter à nouveau les cellules. \n",
    "    \n",
    "</div>"
   ]
  },
  {
   "cell_type": "code",
   "execution_count": null,
   "id": "seasonal-beatles",
   "metadata": {},
   "outputs": [],
   "source": [
    "... \n",
    "plt.show()"
   ]
  },
  {
   "cell_type": "markdown",
   "id": "drawn-latino",
   "metadata": {},
   "source": [
    "<div class=\"alert alert-block alert-success\">\n",
    "    <details>\n",
    "        <summary> <b> Aides </b> </summary>\n",
    "        <ul>\n",
    "            <li> L'instruction pour tracer un graphique est plt.plot(...) </li>\n",
    "            <li> Attention à l'ordre dans lequel on met la liste des abscisses et celle des ordonnées </li>\n",
    "            <li> En python (comme en anglais) le séparateur de décimal est la virgule </li>\n",
    "        </ul>\n",
    "    </details>\n",
    "</div>"
   ]
  },
  {
   "cell_type": "markdown",
   "id": "indie-works",
   "metadata": {},
   "source": [
    "<div class=\"alert alert-block alert-warning\">\n",
    " <details>\n",
    "        <summary> <b> Solution </b> </summary>\n",
    "     <p> Dans les notices, il est indiqué que, pour tracer un graphique on utilise l'instruction plt.plot(...,...).\n",
    "        <ul>\n",
    "            <li> plt.plot(x,y)</li>\n",
    "            <li> On peut aussi faire apparaitre les points : plt.plot(x,y,'o-') </li>\n",
    "            <li>  x = [ 1, 2, 3, <b>3.5 </b>, 4, 5, 6] </li>\n",
    "            <li> y = [ 2.1e3, 3.7e3, 6.2e3, <b>7e3</b>, 8.3e3, 10.1e3, 11.8e3]</li>\n",
    "        </ul>\n",
    "    </details>\n",
    "</div>"
   ]
  },
  {
   "cell_type": "markdown",
   "id": "analyzed-doctrine",
   "metadata": {},
   "source": [
    "### 1.1. Modifier les axes <a id=\"C1\"></a><a id=\"C1_1\"></a>"
   ]
  },
  {
   "cell_type": "markdown",
   "id": "civilian-lincoln",
   "metadata": {},
   "source": [
    "<div class=\"alert alert-block alert-info\">\n",
    "    <b> Consignes </b>\n",
    "    <p> Modifier le script pour que: </p>\n",
    "    <ul>\n",
    "        <li> les axes se croisent à l'orine du repère</li>\n",
    "        <li> les titres des axes soient \"x\" et \"y\" </li>\n",
    "        <li> le titre du graphique soit \"y en fonction de x\" </li>\n",
    "    </ul>\n",
    "</div>"
   ]
  },
  {
   "cell_type": "code",
   "execution_count": null,
   "id": "champion-brunei",
   "metadata": {},
   "outputs": [],
   "source": [
    "plt.plot(x, y, 'o-')\n",
    "#plt.xlim(0)\n",
    "#plt.ylim(0)\n",
    "plt.xlabel(...)\n",
    "plt.ylabel(...)\n",
    "...\n",
    "plt.show()"
   ]
  },
  {
   "cell_type": "markdown",
   "id": "unable-michael",
   "metadata": {
    "tags": []
   },
   "source": [
    "<div class=\"alert alert-block alert-success\">\n",
    "    <details>\n",
    "        <summary> <b> Aides </b> </summary>\n",
    "        <ul>\n",
    "            <li> Les lignes 2 et 3 semblent un peu bizarres, non? </li>\n",
    "            <li> Le titre des axes est une chaine de caractère. </li>\n",
    "            <li> En anglais, \"titre\" se dit \"title\"... </li>\n",
    "        </ul>\n",
    "    </details>\n",
    "</div>"
   ]
  },
  {
   "cell_type": "markdown",
   "id": "norman-decade",
   "metadata": {},
   "source": [
    "<div class=\"alert alert-block alert-warning\">\n",
    " <details>\n",
    "        <summary> <b> Solution </b> </summary>\n",
    "        <ul>\n",
    "            <li><b> Lignes 2 et 3 : </b> Il faut retirer le \"#\" eu début de la ligne </li>\n",
    "            <li><b> Ligne 4 : </b> plt.xlabel(\"x\") </li>\n",
    "            <li><b> Ligne 5 : </b> plt.ylabel(\"y\") </li>\n",
    "            <li><b> Ligne 6 :</b> plt.title(\"y en fonction de x\") </li>\n",
    "        </ul>\n",
    "    </details>\n",
    "</div>"
   ]
  },
  {
   "cell_type": "markdown",
   "id": "particular-tamil",
   "metadata": {},
   "source": [
    "### 1.2. Ajouter des éléments graphiques <a id=\"C1_2\"></a>"
   ]
  },
  {
   "cell_type": "markdown",
   "id": "activated-cursor",
   "metadata": {},
   "source": [
    "<div class=\"alert alert-block alert-info\">\n",
    "    <b> Consignes </b>\n",
    "    <ul>\n",
    "        <li> Exécuter une première fois la cellule </li>\n",
    "        <li> Ligne 1, remplacer \"o\" par \"+\" et exécuter la cellule </li>\n",
    "        <li> Modifier le script de manière à avoir des \"x\" reliés par une ligne pointillée rouge </li>\n",
    "        <li> Modifier le graphique de manière à afficher une grille </li>\n",
    "    </ul>\n",
    "</div>"
   ]
  },
  {
   "cell_type": "code",
   "execution_count": null,
   "id": "brave-portfolio",
   "metadata": {},
   "outputs": [],
   "source": [
    "plt.plot(x,y,'bo-')\n",
    "plt.xlim(0)\n",
    "plt.ylim(0)\n",
    "plt.xlabel(\"x\")\n",
    "plt.ylabel(\"y\")\n",
    "#plt.grid()\n",
    "plt.title(\"Mon super graphique\")\n",
    "plt.show()"
   ]
  },
  {
   "cell_type": "markdown",
   "id": "cloudy-progressive",
   "metadata": {},
   "source": [
    "<div class=\"alert alert-block alert-success\">\n",
    "    <details>\n",
    "        <summary> <b> Aides </b> </summary>\n",
    "        <ul>\n",
    "            <li> Voir la notice dans le <a href=\"https://colibris.link/PC\">dossier partagé</a>.  </li>\n",
    "            <li> 'b' comme bleu 'o' comme la forme des points et '-' comme une ligne continue. </li>\n",
    "            <li> Une ligne doit être <i> décommentée</i>.  </li>\n",
    "        </ul>\n",
    "    </details>\n",
    "</div>"
   ]
  },
  {
   "cell_type": "markdown",
   "id": "stylish-savings",
   "metadata": {},
   "source": [
    "<div class=\"alert alert-block alert-warning\">\n",
    " <details>\n",
    "        <summary> <b> Solution </b> </summary>\n",
    "        <ul>\n",
    "            <li> <b> Ligne 1 : </b> plt.plot(x,y,'rx-') </li>\n",
    "            <li> <b> Ligne 6 : </b> il faut la décommenter, c'est-à-dire retirer le \"#\" au début de la ligne. </li>\n",
    "        </ul>\n",
    "    </details>\n",
    "</div>"
   ]
  },
  {
   "cell_type": "markdown",
   "id": "acknowledged-tractor",
   "metadata": {
    "tags": []
   },
   "source": [
    "<p style=\"font-size:20px\"><a href=\"#debut\"> &#x23EB; retour au sommaire  &#x23EB;</a></p>"
   ]
  },
  {
   "cell_type": "markdown",
   "id": "comprehensive-officer",
   "metadata": {},
   "source": [
    "## 2. Création d'une grandeur calculée et tracé d'une deuxième courbe <a id=\"C2\"></a>"
   ]
  },
  {
   "cell_type": "markdown",
   "id": "changing-toronto",
   "metadata": {},
   "source": [
    "### 2.1. Nouvelle grandeur et nouvelle courbe <a id=\"C2_1\"></a>"
   ]
  },
  {
   "cell_type": "markdown",
   "id": "tough-release",
   "metadata": {
    "tags": []
   },
   "source": [
    "<div class=\"alert alert-block alert-info\">\n",
    "    <b> Consignes </b>\n",
    "\n",
    "* Compléter la ligne 1 pour stocker dans la variable N le nombre d'éléments de la liste y \n",
    "* Compléter la ligne 3 pour faire le calcul N fois \n",
    "* Compléter la ligne 4 pour calculer $ 80 \\times \\sqrt{y_i}+ 1000$ et l'ajouter à la liste y2.\n",
    "* Compléter la ligne 7 pour ajouter la courbe représentant y2 en fonction de x \n",
    "\n",
    "</div>"
   ]
  },
  {
   "cell_type": "code",
   "execution_count": null,
   "id": "hired-vegetation",
   "metadata": {},
   "outputs": [],
   "source": [
    "N = ...\n",
    "y2 = []\n",
    "for i in range(...):\n",
    "    y2.append(...)\n",
    "\n",
    "plt.plot(x,y)\n",
    "...\n",
    "plt.xlim(0)\n",
    "plt.ylim(0)\n",
    "plt.xlabel(\"Titre de l'axe des abscisses\")\n",
    "plt.ylabel(\"Titre de l'axe des ordonnées\")\n",
    "plt.grid()\n",
    "plt.title(\"Mon super graphique\")\n",
    "plt.show()"
   ]
  },
  {
   "cell_type": "markdown",
   "id": "expensive-surgeon",
   "metadata": {},
   "source": [
    "<div class=\"alert alert-block alert-success\">\n",
    "    <details>\n",
    "        <summary> <b> Aides </b> </summary>\n",
    "        <ul>\n",
    "            <li> <b> Lignes 1, 3 et 4 : </b> voir le <a href=\"https://tube-creteil.beta.education.fr/videos/watch/8ba61fa9-08ac-4e32-947b-dbcafc736fa6\">tuto vidéo</a> (2'50) </li>\n",
    "            <li> <b> Ligne 7 : </b> On peut s'inspirer de la ligne précédente</li>\n",
    "        </ul>\n",
    "    </details>\n",
    "</div>"
   ]
  },
  {
   "cell_type": "markdown",
   "id": "liberal-tokyo",
   "metadata": {},
   "source": [
    "<div class=\"alert alert-block alert-warning\">\n",
    " <details>\n",
    "        <summary> <b> Solution </b> </summary>\n",
    "        <ul>\n",
    "            <li> <b> Ligne 1 : </b> N = len(y) </li>\n",
    "            <li> <b> Ligne 3 : </b> for i in range(N):</li>\n",
    "            <li> <b> Ligne 4 : </b> y2.append(80* sqrt(y[i]) + 1000)  &#9888; Attention à l'indentation &#9888; </li> \n",
    "            <li> <b> Ligne 7 : </b> plt.plot(x,y2, 'o-')</li>\n",
    "        </ul>\n",
    "    </details>\n",
    "</div>"
   ]
  },
  {
   "cell_type": "markdown",
   "id": "infinite-wonder",
   "metadata": {},
   "source": [
    "### 2.2. Ajouter les noms des courbes <a id=\"C2_2\"></a>"
   ]
  },
  {
   "cell_type": "markdown",
   "id": "continent-windows",
   "metadata": {},
   "source": [
    "<div class=\"alert alert-block alert-info\">\n",
    "    <b> Consignes </b>\n",
    "    <ul>\n",
    "        <li> Compléter les lignes 1 et 2 pour pour nommer les courbes \"y\" et \"y2\".</li>\n",
    "        <li> Modifier le script pour afficher la légende. </li>\n",
    "    </ul>\n",
    "</div>"
   ]
  },
  {
   "cell_type": "code",
   "execution_count": null,
   "id": "atlantic-yacht",
   "metadata": {
    "tags": []
   },
   "outputs": [],
   "source": [
    "plt.plot(x, y, 'o-', label=\"...\")\n",
    "plt.plot(x, y2, 'o-', ...)\n",
    "plt.xlim(0)\n",
    "plt.ylim(0)\n",
    "plt.xlabel(\"Titre de l'axe des abscisses\")\n",
    "plt.ylabel(\"Titre de l'axe des ordonnées\")\n",
    "plt.grid()\n",
    "plt.title(\"Mon super graphique\")\n",
    "#plt.legend()\n",
    "plt.show()"
   ]
  },
  {
   "cell_type": "markdown",
   "id": "finite-hardwood",
   "metadata": {},
   "source": [
    "<div class=\"alert alert-block alert-success\">\n",
    "    <details>\n",
    "        <summary> <b> Aides </b> </summary>\n",
    "        <ul>\n",
    "            <li> <b> Lignes 1 et 2 : </b> voir la notice et l'argument <i>label</i>. </li>\n",
    "            <li> <b> Ligne 9 : </b> là vous devriez trouver quoi faire tout seul.</li>\n",
    "        </ul>\n",
    "    </details>\n",
    "</div>"
   ]
  },
  {
   "cell_type": "markdown",
   "id": "personal-cooperative",
   "metadata": {
    "tags": []
   },
   "source": [
    "<div class=\"alert alert-block alert-warning\">\n",
    " <details>\n",
    "        <summary> <b> Solution </b> </summary>\n",
    "        <ul>\n",
    "            <li> <b> Ligne 1 : </b>plt.plot(x, y, 'o-', label=\"y\") </li>\n",
    "            <li> <b> Ligne 2 : </b> plt.plot(x, y2, 'o-', label=\"y2\")</li>\n",
    "            <li> <b> Ligne 9 : </b> décommenter (retirer le '#') </li>\n",
    "        </ul>\n",
    "    </details>\n",
    "</div>"
   ]
  },
  {
   "cell_type": "markdown",
   "id": "together-imperial",
   "metadata": {
    "tags": []
   },
   "source": [
    "<p style=\"font-size:20px\"><a href=\"#debut\"> &#x23EB; retour au sommaire  &#x23EB;</a></p>"
   ]
  },
  {
   "cell_type": "markdown",
   "id": "flying-runner",
   "metadata": {},
   "source": [
    "## 3. Une première régression linéaire <a id=\"C3\"></a>"
   ]
  },
  {
   "cell_type": "markdown",
   "id": "rough-namibia",
   "metadata": {},
   "source": [
    "### 3.1. faire une régression linéaire<a id=\"C3_1\"></a>"
   ]
  },
  {
   "cell_type": "markdown",
   "id": "advisory-outside",
   "metadata": {},
   "source": [
    "<div class=\"alert alert-block alert-info\">\n",
    "    <b> Consignes </b>\n",
    "    <p>Pour tracer la courbe de tendance d'une fonction linéaire  on fait le quotient $\\frac{y_i}{x_i}$ pour tous les points et on calcule la moyenne correpondant. Ensuite, on multiplie chaque valeur de x par ce coefficient directeur moyen et on stocke les résultats dans une liste y_mod. Il ne reste plus qu'à tracer la courbe de tendance avec ces valeurs. </p>\n",
    "    <ul>\n",
    "        <li> Compléter la ligne 6 </li>\n",
    "        <li> Compléter la ligne 11 pour ajouter à la liste y_mod $a_m \\times x_i$   </li>\n",
    "        <li> Compléter les lignes 14 et 15 pour tracer les points expérimentaux et la courbe de tendance </li>\n",
    "        <li> Ajouter une ligne manière à afficher une grille </li>\n",
    "    </ul>\n",
    "</div>"
   ]
  },
  {
   "cell_type": "code",
   "execution_count": null,
   "id": "rolled-hobby",
   "metadata": {},
   "outputs": [],
   "source": [
    "# Determination du coeff directeur moyen\n",
    "N = len(y)\n",
    "a = []\n",
    "for i in range(N):\n",
    "    a.append(y[i] / x[i]) # Calcul du coeff de proportionnalité\n",
    "a_m = sum(a) / ... # Valeur moyenne du coeff de proportionnalité\n",
    "\n",
    "# Calcul des valeurs de la modelisation:\n",
    "y_mod = [] # Création d'une liste vide\n",
    "for i in range(N):\n",
    "    y_mod.append(... * ...) \n",
    "    \n",
    "# Tracé du nuage de points et de la courbe de tendance\n",
    "plt.plot(x, ..., 'ob', label=\"Points expérimentaux\") \n",
    "plt.plot(x, ..., 'r-', label=\"Courbe de tendance\") \n",
    "plt.legend()\n",
    "plt.xlim(0)\n",
    "plt.ylim(0)\n",
    "# Affichage du resultat dans la console:\n",
    "print(\"coefficient directeur: a =\", a_m)\n",
    "\n",
    "plt.show()"
   ]
  },
  {
   "cell_type": "markdown",
   "id": "interior-advocacy",
   "metadata": {
    "tags": []
   },
   "source": [
    "<div class=\"alert alert-block alert-success\">\n",
    "    <details>\n",
    "        <summary> <b> Aides </b> </summary>\n",
    "        <ul>\n",
    "            <li> <b> Lignes 6 : </b> pour calculer la moyenne il faut le nombre de valeurs. </li>\n",
    "            <li> <b> Ligne 11 : </b> attention à la syntaxe en python.</li>\n",
    "            <li> <b> Lignes 14 et 15 : </b> il suffit de choisir les bonnes listes pour l'axe des ordonnées.</li>\n",
    "            <li> <b> Pour la grille : </b> voir la <a href=\"#C1_2\"> partie 1.2. </a> </li>\n",
    "        </ul>\n",
    "    </details>\n",
    "</div>"
   ]
  },
  {
   "cell_type": "markdown",
   "id": "mature-novel",
   "metadata": {
    "tags": []
   },
   "source": [
    "<div class=\"alert alert-block alert-warning\">\n",
    " <details>\n",
    "        <summary> <b> Solution </b> </summary>\n",
    "        <ul>\n",
    "            <li> <b> Lignes 6 : </b> a_m = sum(a) / N </li>\n",
    "            <li> <b> Ligne 11 : </b> y_mod.append(a_m * x[i]) &#9888; Attention à l'indentation &#9888; </li>\n",
    "            <li> <b> Ligne 14 : </b> plt.plot(x, y, 'ob', label=\"Points expérimentaux\") </li>\n",
    "            <li> <b> Ligne 15 : </b> plt.plot(x, y_mod, 'r-', label=\"Courbe de tendance\") </li>\n",
    "            <li> <b> Pour la grille : </b> plt.grid()\n",
    "        </ul>\n",
    "    </details>\n",
    "</div>"
   ]
  },
  {
   "cell_type": "markdown",
   "id": "precise-symphony",
   "metadata": {},
   "source": [
    "### 3.2. Prolonger la courbe jusqu'à x=0 <a id=\"C3_2\"></a>"
   ]
  },
  {
   "cell_type": "markdown",
   "id": "determined-connectivity",
   "metadata": {},
   "source": [
    "<div class=\"alert alert-block alert-info\">\n",
    "    <b> Consignes </b>\n",
    "    <p> Exécuter la cellule et observer la différence avec le graphique précédent. </p>\n",
    "</div>"
   ]
  },
  {
   "cell_type": "code",
   "execution_count": null,
   "id": "political-baltimore",
   "metadata": {},
   "outputs": [],
   "source": [
    "# Détermination du coeff directeur moyen\n",
    "N = len(y)\n",
    "a = []\n",
    "for i in range(N):\n",
    "    a.append(y[i] / x[i]) # Calcul du coeff de proportionnalité\n",
    "a_m = sum(a) / N # Valeur moyenne du coeff de proportionnalité\n",
    "\n",
    "# Calcul des valeurs de la modelisation:\n",
    "x_mod = [0] + x # Pour prolonger la courbe jusqu'à x=0  <------------------- Ligne à observer\n",
    "y_mod = []\n",
    "for i in range(N+1): # On a une valeur en plus avec le 0\n",
    "    y_mod.append(a_m * x_mod[i]) \n",
    "    \n",
    "# Tracer du nuage de point et de la courbe de tendance\n",
    "plt.plot(x, y, 'ob', label=\"Points expérimentaux\") \n",
    "plt.plot(x_mod, y_mod, 'r-', label=\"Courbe de tendance\") # <------------------- Ligne à observer\n",
    "plt.legend()\n",
    "plt.xlim(0)\n",
    "plt.ylim(0)\n",
    "plt.grid()\n",
    "# Affichage du resultat dans la console:\n",
    "print(\"coefficient directeur: a =\", a_m)\n",
    "\n",
    "plt.show()"
   ]
  },
  {
   "cell_type": "markdown",
   "id": "continent-force",
   "metadata": {
    "tags": []
   },
   "source": [
    "<p style=\"font-size:20px\"><a href=\"#debut\"> &#x23EB; retour au sommaire  &#x23EB;</a></p>"
   ]
  },
  {
   "cell_type": "markdown",
   "id": "electoral-payday",
   "metadata": {},
   "source": [
    "### 3.3. Indiquer le coefficient directeur dans la légende <a id=\"C3_3\"></a>"
   ]
  },
  {
   "cell_type": "markdown",
   "id": "suburban-computer",
   "metadata": {},
   "source": [
    "<div class=\"alert alert-block alert-info\">\n",
    "    <b> Consignes </b>\n",
    "    <ul>\n",
    "        <li> Exécuter la cellule. </li>\n",
    "        <li> Modifier ligne 16 pour afficher le coefficient directeur avec une seule décimale et exécuter la cellule. </li>\n",
    "        <li> Modifier la ligne 16 pour afficher le coefficient directeur en écriture scientifique et éxécuter la cellule. </li>\n",
    "    </ul>\n",
    "</div>"
   ]
  },
  {
   "cell_type": "code",
   "execution_count": null,
   "id": "ambient-convert",
   "metadata": {},
   "outputs": [],
   "source": [
    "# Determination du coeff directeur moyen\n",
    "N = len(y)\n",
    "a = []\n",
    "for i in range(N):\n",
    "    a.append(y[i] / x[i])\n",
    "a_m = sum(a) / N\n",
    "\n",
    "# Calcul des valeurs de la modelisation:\n",
    "x_mod = [0] + x # Pour voir que la courbe passe par l'origine\n",
    "y_mod = []\n",
    "for i in range(N+1): # On a une valeur en plus avec le 0\n",
    "    y_mod.append(a_m * x_mod[i])\n",
    "    \n",
    "# Tracer du nuage de point et de la courbe de tendance\n",
    "plt.plot(x, y, 'o', label='Points experimentaux') \n",
    "plt.plot(x_mod, y_mod, 'r-',label = f\"modélisation : y = {a_m:.2f} x\") # <------ Ligne à observer et modifier\n",
    "plt.xlim(0)\n",
    "plt.ylim(0)\n",
    "plt.legend()\n",
    "plt.grid()\n",
    "plt.show()"
   ]
  },
  {
   "cell_type": "markdown",
   "id": "intense-importance",
   "metadata": {},
   "source": [
    "<div class=\"alert alert-block alert-success\">\n",
    "    <details>\n",
    "        <summary> <b> Aides </b> </summary>\n",
    "        <ul>\n",
    "            <li> Pour afficher l'équation de la droite dans la légende, on utilise un \"f string\" dont on trouvera une description <a href=\"https://he-arc.github.io/livre-python/fstrings/index.html\"> ici. </a> </li>\n",
    "            <li> On pourra s'aider de  <a href=\"https://tube-creteil.beta.education.fr/videos/watch/596c680d-4267-4df8-b560-98edd124b118\"> la vidéo sur la régression linéaire </a> (6'01).</li>\n",
    "        </ul>\n",
    "    </details>\n",
    "</div>"
   ]
  },
  {
   "cell_type": "markdown",
   "id": "sound-address",
   "metadata": {
    "tags": []
   },
   "source": [
    "<div class=\"alert alert-block alert-warning\">\n",
    " <details>\n",
    "        <summary> <b> Solution </b> </summary>\n",
    "        <ul>\n",
    "            <li> plt.plot(x_mod, y_mod, 'r-',label = f\"modélisation : y = <b>{a_m:.1f}</b> x\")  </li>\n",
    "            <li> plt.plot(x_mod, y_mod, 'r-',label = f\"modélisation : y = <b>{a_m:.1e}</b> x\") </li>\n",
    "        </ul>\n",
    "    </details>\n",
    "</div>"
   ]
  },
  {
   "cell_type": "markdown",
   "id": "jewish-courtesy",
   "metadata": {
    "tags": []
   },
   "source": [
    "<p style=\"font-size:20px\"><a href=\"#debut\"> &#x23EB; retour au sommaire  &#x23EB;</a></p>"
   ]
  },
  {
   "cell_type": "markdown",
   "id": "exterior-advertiser",
   "metadata": {
    "tags": []
   },
   "source": [
    "## 4. Regression linéaire pour une fonction affine  <a id=\"C4\"></a>"
   ]
  },
  {
   "cell_type": "markdown",
   "id": "quick-glasgow",
   "metadata": {},
   "source": [
    " <p> Pour une fonction affine, on utilise ne peut pas simplement déterminer le coefficience directeur. On utilise donc la fonction linregress du module scipy.stats qui renvoie notamment le coefficient directeur et l'ordonnée à l'origine de la courbe de tendance.  </p>\n",
    "    <p> On trouvera la documentation officielle <a href=\"https://docs.scipy.org/doc/scipy/reference/generated/scipy.stats.linregress.html\"> ici </a> "
   ]
  },
  {
   "cell_type": "markdown",
   "id": "unable-computer",
   "metadata": {
    "tags": []
   },
   "source": [
    "<div class=\"alert alert-block alert-danger\">\n",
    "    <p> Exécuter la cellule suivante avant de faire la suite afin d'importer la fonction linregress et de changer les listes x et y pour qu'elles correspondent à une tendance affine.</p>\n",
    "</div>"
   ]
  },
  {
   "cell_type": "code",
   "execution_count": null,
   "id": "twelve-karen",
   "metadata": {},
   "outputs": [],
   "source": [
    "from scipy.stats import linregress\n",
    "\n",
    "#Listes de valeurs\n",
    "x = [ 1, 2, 3, 4, 5, 6]\n",
    "y = [ 12.1e3, 13.7e3, 16.2e3, 18.3e3, 20.1e3, 21.8e3]"
   ]
  },
  {
   "cell_type": "markdown",
   "id": "competent-abortion",
   "metadata": {},
   "source": [
    "### 4.1. Utilisation de la fonction linregress <a id=\"C4_1\"></a>"
   ]
  },
  {
   "cell_type": "markdown",
   "id": "processed-transcript",
   "metadata": {
    "tags": []
   },
   "source": [
    "<div class=\"alert alert-block alert-info\">\n",
    "    <b> Consignes </b>\n",
    "    <ul>\n",
    "        <li> Compléter la ligne 9 Pour créer la liste y_mod, vide pour l'instant. </li>\n",
    "        <li> Compléter la ligne 10 pour faire le calcul pour toutes les valeurs de la liste x. </li>\n",
    "        <li> Compléter la ligne 11 avec le calcul correspondant à la fonction affine déterminée par la régression linéaire. </li>\n",
    "        <li> Compléter les lignes 14 et 15 Pour afficher l'équation de courbe de tendance. le coefficient directeur et l'ordonnée à l'origine en écriture scientifique et avec 1 chiffre après la virgule. </li>\n",
    "    </ul>\n",
    "</div>"
   ]
  },
  {
   "cell_type": "code",
   "execution_count": null,
   "id": "occupied-monster",
   "metadata": {
    "tags": []
   },
   "outputs": [],
   "source": [
    "## Régression linéaire ##\n",
    "params = linregress(x,y)\n",
    "a = params[0] # On récupère le coeff directeur\n",
    "b = params[1] # On récupère l'ordonnée à l'orgine\n",
    "coeff_corr = params[2] # On récupère le coefficience de corrélation\n",
    "\n",
    "N = len(x)\n",
    "\n",
    "... # liste vide\n",
    "for i in range(...): \n",
    "    y_mod.append(... * ... + ... ) # calcul des valeur avec a et b \n",
    "\n",
    "## Tracé du graphique ##\n",
    "plt.plot(..., ..., 'o', label= \"Points expérimentaux\") # tracer des points expérimentaux\n",
    "plt.plot(..., ..., 'r-',label = f\"modélisation : y = {a:.1e} x + {...} \") # tracé de la courbe de tendance\n",
    "plt.xlim(0)\n",
    "plt.ylim(0)\n",
    "plt.grid()\n",
    "plt.legend()\n",
    "## Affichage des résultats dans la console ##\n",
    "print(\"a = \", a)\n",
    "print(\"b = \", b)\n",
    "print(\"Coefficient de corrélation: \", coeff_corr)\n",
    "\n",
    "plt.show()"
   ]
  },
  {
   "cell_type": "markdown",
   "id": "collective-license",
   "metadata": {
    "tags": []
   },
   "source": [
    "<div class=\"alert alert-block alert-success\">\n",
    "    <details>\n",
    "        <summary> <b> Aides </b> </summary>\n",
    "        <ul>\n",
    "            <li> <b> Lignes 9 et 10 : </b> voir le code de la <a href=\"#C3_1\"> partie 3.1. </a> </li>\n",
    "            <li> <b> Ligne 11 : </b> bien comprendre les lignes 3 et 4 et s'inspirer de la ligne 11 de la <a href=\"#C3_1\"> partie 3.1. </a> </li>\n",
    "            <li> <b> Ligne14 et 15 : </b> voir le code de  <a href=\"#C3_3\"> la partie 3.3. </a> </li>\n",
    "        </ul>\n",
    "    </details>\n",
    "</div>"
   ]
  },
  {
   "cell_type": "markdown",
   "id": "available-frequency",
   "metadata": {
    "tags": []
   },
   "source": [
    "<div class=\"alert alert-block alert-warning\">\n",
    " <details>\n",
    "        <summary> <b> Solution </b> </summary>\n",
    "        <ul>\n",
    "            <li> <b> Ligne 9 : </b> y_mod = [] </li>\n",
    "            <li> <b> Ligne 10 : </b> for i in range(N):  </li>\n",
    "            <li> <b> Ligne 11 : </b> y_mod.append(a * x[i] + b )  &#9888; Attention à l'indentation &#9888;</li>\n",
    "            <li> <b> Ligne 14 : </b> plt.plot(<b>x, y,</b> 'o', label= \"Points expérimentaux\") </li>\n",
    "            <li> <b> Ligne 15 : </b> plt.plot(<b>x, y_mod,</b> 'r-',label = f\"modélisation : y = {a:.1e} x + <b>{b:.1e}</b> \") </li>\n",
    "        </ul>\n",
    "    </details>\n",
    "</div>"
   ]
  },
  {
   "cell_type": "markdown",
   "id": "excited-arthritis",
   "metadata": {
    "tags": []
   },
   "source": [
    "<p style=\"font-size:20px\"><a href=\"#debut\"> &#x23EB; retour au sommaire  &#x23EB;</a></p>"
   ]
  },
  {
   "cell_type": "markdown",
   "id": "featured-saskatchewan",
   "metadata": {},
   "source": [
    "### 4.2. Prolonger la courbe jusqu'à x=0 <a id=\"C4_2\"></a>"
   ]
  },
  {
   "cell_type": "markdown",
   "id": "confident-grammar",
   "metadata": {
    "tags": []
   },
   "source": [
    "<div class=\"alert alert-block alert-info\">\n",
    "    <b> Consignes </b>\n",
    "    <p> Compléter le code pour obtenir une courbe de tendance prolongée jusqu'à l'ordonnée à l'origine</p>\n",
    "</div>"
   ]
  },
  {
   "cell_type": "code",
   "execution_count": null,
   "id": "animal-absence",
   "metadata": {
    "tags": []
   },
   "outputs": [],
   "source": [
    "## Régression linéaire ##\n",
    "params = linregress(x,y)\n",
    "a = params[0] # On récupère le coeff directeur\n",
    "b = params[1] # On récupère l'ordonnée à l'orgine\n",
    "coeff_corr = params[2] # On récupère le coefficience de corrélation\n",
    "\n",
    "N = len(x)\n",
    "... # Pour prolonger la courbe jusqu'à x=0\n",
    "y_mod = [] # liste vide\n",
    "for i in range(...): # Une valeur supplémentaire avec 0\n",
    "    y_mod.append(... ) # remplissage de la liste\n",
    "\n",
    "## Tracé du graphique ##\n",
    "plt.plot(x, y, 'o', label= \"Points expérimentaux\") # tracer des points expérimentaux\n",
    "plt.plot(x_mod, y_mod, 'r-',label = f\"modélisation : y = {a:.1e} x + {b:.1e} \") # tracé de la courbe de tendance\n",
    "plt.xlim(0)\n",
    "plt.ylim(0)\n",
    "plt.grid()\n",
    "plt.legend()\n",
    "## Affichage des résultats dans la console ##\n",
    "print(\"a = \", a)\n",
    "print(\"b = \", b)\n",
    "print(\"Coefficient de corrélation: \", coeff_corr)\n",
    "\n",
    "plt.show()"
   ]
  },
  {
   "cell_type": "markdown",
   "id": "congressional-brighton",
   "metadata": {
    "tags": []
   },
   "source": [
    "<div class=\"alert alert-block alert-success\">\n",
    "    <details>\n",
    "        <summary> <b> Aides </b> </summary>\n",
    "        <p> Voir le code de la <a href=\"#C3_2\"> partie 3.2. </a>\n",
    "    </details>\n",
    "</div>"
   ]
  },
  {
   "cell_type": "markdown",
   "id": "compact-saskatchewan",
   "metadata": {
    "tags": []
   },
   "source": [
    "<div class=\"alert alert-block alert-warning\">\n",
    " <details>\n",
    "        <summary> <b> Solution </b> </summary>\n",
    "        <ul>\n",
    "            <li> <b> Ligne 8 : </b> x_mod= [0] + x </li>\n",
    "            <li> <b> Ligne 10 : </b> for i in range(<b>N+1</b>):  </li>\n",
    "            <li> <b> Ligne 11 : </b> <b>y_mod</b>.append( a * <b>x_mod[i]</b> + b ) </li>\n",
    "        </ul>\n",
    "    </details>\n",
    "</div>"
   ]
  },
  {
   "cell_type": "markdown",
   "id": "competitive-speed",
   "metadata": {
    "tags": []
   },
   "source": [
    "<p style=\"font-size:20px\"><a href=\"#debut\"> &#x23EB; retour au sommaire  &#x23EB;</a></p>"
   ]
  }
 ],
 "metadata": {
  "kernelspec": {
   "display_name": "Python 3",
   "language": "python",
   "name": "python3"
  },
  "language_info": {
   "codemirror_mode": {
    "name": "ipython",
    "version": 3
   },
   "file_extension": ".py",
   "mimetype": "text/x-python",
   "name": "python",
   "nbconvert_exporter": "python",
   "pygments_lexer": "ipython3",
   "version": "3.7.9"
  }
 },
 "nbformat": 4,
 "nbformat_minor": 5
}
