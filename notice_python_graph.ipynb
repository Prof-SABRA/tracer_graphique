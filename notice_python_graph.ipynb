{
 "cells": [
  {
   "cell_type": "code",
   "execution_count": null,
   "id": "illegal-onion",
   "metadata": {},
   "outputs": [],
   "source": [
    "import matplotlib.pyplot as plt\n",
    "from math import *"
   ]
  },
  {
   "cell_type": "markdown",
   "id": "controversial-atmosphere",
   "metadata": {},
   "source": [
    "# Tracer un graphique simple"
   ]
  },
  {
   "cell_type": "code",
   "execution_count": null,
   "id": "sharp-termination",
   "metadata": {},
   "outputs": [],
   "source": [
    "x = [ 1, 2, 3, 4, 5, 6]\n",
    "y = [ 2, 4, 6, 8, 10, 12]\n",
    "\n",
    "plt.plot(x,y)\n",
    "plt.show()"
   ]
  },
  {
   "cell_type": "markdown",
   "id": "favorite-chorus",
   "metadata": {},
   "source": [
    "### Modifier les axes"
   ]
  },
  {
   "cell_type": "code",
   "execution_count": null,
   "id": "center-batman",
   "metadata": {},
   "outputs": [],
   "source": [
    "plt.plot(x,y)\n",
    "plt.xlim(0)\n",
    "plt.ylim(0)\n",
    "plt.xlabel(\"Titre de l'axe des abscisses\")\n",
    "plt.ylabel(\"Titre de l'axe des ordonnées\")\n",
    "plt.show()"
   ]
  },
  {
   "cell_type": "markdown",
   "id": "iraqi-partition",
   "metadata": {},
   "source": [
    "### Ajouter des éléments graphiques"
   ]
  },
  {
   "cell_type": "code",
   "execution_count": null,
   "id": "legal-cartoon",
   "metadata": {},
   "outputs": [],
   "source": [
    "plt.plot(x,y,'bo--')\n",
    "plt.xlim(0)\n",
    "plt.ylim(0)\n",
    "plt.xlabel(\"Titre de l'axe des abscisses\")\n",
    "plt.ylabel(\"Titre de l'axe des ordonnées\")\n",
    "plt.grid()\n",
    "plt.title(\"Mon super graphique\")\n",
    "plt.show()"
   ]
  },
  {
   "cell_type": "markdown",
   "id": "resident-minority",
   "metadata": {},
   "source": [
    "# Création d'une grandeur calculée et tracer d'une deuxième courbe"
   ]
  },
  {
   "cell_type": "code",
   "execution_count": null,
   "id": "according-stuff",
   "metadata": {},
   "outputs": [],
   "source": [
    "x = [ 1, 2, 3, 4, 5, 6]\n",
    "y = [ 2, 4, 6, 8, 10, 12]\n",
    "\n",
    "N = len(y)\n",
    "y2 = []\n",
    "for i in range(N):\n",
    "    y2.append(sqrt(y[i]))\n",
    "\n",
    "plt.plot(x,y)\n",
    "plt.plot(x,y2)\n",
    "plt.xlim(0)\n",
    "plt.ylim(0)\n",
    "plt.xlabel(\"Titre de l'axe des abscisses\")\n",
    "plt.ylabel(\"Titre de l'axe des ordonnées\")\n",
    "plt.grid()\n",
    "plt.title(\"Mon super graphique\")\n",
    "plt.show()"
   ]
  },
  {
   "cell_type": "markdown",
   "id": "maritime-arrival",
   "metadata": {},
   "source": [
    "### Ajouter les noms des courbes"
   ]
  },
  {
   "cell_type": "code",
   "execution_count": null,
   "id": "worth-patio",
   "metadata": {},
   "outputs": [],
   "source": [
    "plt.plot(x,y, label='courbe 1')\n",
    "plt.plot(x,y2, label= 'courbe 2')\n",
    "plt.xlim(0)\n",
    "plt.ylim(0)\n",
    "plt.xlabel(\"Titre de l'axe des abscisses\")\n",
    "plt.ylabel(\"Titre de l'axe des ordonnées\")\n",
    "plt.grid()\n",
    "plt.title(\"Mon super graphique\")\n",
    "plt.legend()\n",
    "plt.show()"
   ]
  },
  {
   "cell_type": "markdown",
   "id": "miniature-parliament",
   "metadata": {},
   "source": [
    "# Une première régression linéaire"
   ]
  },
  {
   "cell_type": "code",
   "execution_count": null,
   "id": "simple-minimum",
   "metadata": {},
   "outputs": [],
   "source": [
    "# Determination du coeff directeur moyen\n",
    "N = len(y)\n",
    "a = []\n",
    "for i in range(N):\n",
    "    a.append(y[i] / x[i])\n",
    "a_m = sum(a) / N\n",
    "\n",
    "# Calcul des valeurs de la modelisation:\n",
    "x_mod = [0] + x # Pour voir que la courbe passe par l'origine\n",
    "y_mod = []\n",
    "for i in range(N+1): # On a une valeur en plus avec le 0\n",
    "    y_mod.append(a_m * x_mod[i])\n",
    "    \n",
    "# Tracer du nuage de point et de la courbe de tendance\n",
    "plt.plot(x, y, 'o') \n",
    "plt.plot(x_mod, y_mod, 'r-') \n",
    "\n",
    "# Affichage du resultat dans la console:\n",
    "print(\"coefficient directeur: a =\", a_m)\n",
    "\n",
    "plt.show()"
   ]
  },
  {
   "cell_type": "markdown",
   "id": "victorian-fortune",
   "metadata": {},
   "source": [
    "### On peut ajouter une légende"
   ]
  },
  {
   "cell_type": "code",
   "execution_count": null,
   "id": "multiple-carrier",
   "metadata": {},
   "outputs": [],
   "source": [
    "# Determination du coeff directeur moyen\n",
    "N = len(y)\n",
    "a = []\n",
    "for i in range(N):\n",
    "    a.append(y[i] / x[i])\n",
    "a_m = sum(a) / N\n",
    "\n",
    "# Calcul des valeurs de la modelisation:\n",
    "x_mod = [0] + x # Pour voir que la courbe passe par l'origine\n",
    "y_mod = []\n",
    "for i in range(N+1): # On a une valeur en plus avec le 0\n",
    "    y_mod.append(a_m * x_mod[i])\n",
    "    \n",
    "# Tracer du nuage de point et de la courbe de tendance\n",
    "plt.plot(x, y, 'o', label='Points experimentaux') \n",
    "plt.plot(x_mod, y_mod, 'r-',label='modélisation : y = ' + str(a_m) + 'x') \n",
    "\n",
    "# Affichage du resultat dans la console:\n",
    "print(\"coefficient directeur: a =\", a_m)\n",
    "plt.legend()\n",
    "plt.show()"
   ]
  },
  {
   "cell_type": "markdown",
   "id": "shared-police",
   "metadata": {},
   "source": [
    "# Regression linéaire pour une fonction affine "
   ]
  },
  {
   "cell_type": "code",
   "execution_count": null,
   "id": "infinite-secret",
   "metadata": {},
   "outputs": [],
   "source": [
    "from scipy.stats import linregress\n",
    "\n",
    "## Régression linéaire ##\n",
    "params = linregress(x,y)\n",
    "a = params[0] # On récupère le coeff directeur\n",
    "b = params[1] # On récupère l'ordonnée à l'orgine\n",
    "coeff_corr = params[2] # On récupère le coefficience de corrélation\n",
    "\n",
    "y_mod = [] # liste vide\n",
    "for i in range(N):\n",
    "    y_mod.append(a * x[i] + b ) # remplissage de la liste\n",
    "\n",
    "## Tracé du graphique ##\n",
    "plt.plot(x, y, 'o') # tracer des points expérimentaux\n",
    "plt.plot(x, y_mod, 'r-') # tracer de la courbe de tendance\n",
    "\n",
    "## Affichage des résultats ##\n",
    "print(\"a = \", a)\n",
    "print(\"b = \", b)\n",
    "print(\"Coefficient de corrélation: \", coeff_corr)\n",
    "\n",
    "plt.show()"
   ]
  },
  {
   "cell_type": "code",
   "execution_count": null,
   "id": "presidential-canyon",
   "metadata": {},
   "outputs": [],
   "source": []
  }
 ],
 "metadata": {
  "kernelspec": {
   "display_name": "Python 3",
   "language": "python",
   "name": "python3"
  },
  "language_info": {
   "codemirror_mode": {
    "name": "ipython",
    "version": 3
   },
   "file_extension": ".py",
   "mimetype": "text/x-python",
   "name": "python",
   "nbconvert_exporter": "python",
   "pygments_lexer": "ipython3",
   "version": "3.7.9"
  }
 },
 "nbformat": 4,
 "nbformat_minor": 5
}
